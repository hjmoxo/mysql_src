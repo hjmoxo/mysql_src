{
 "cells": [
  {
   "cell_type": "code",
   "execution_count": 2,
   "metadata": {},
   "outputs": [
    {
     "data": {
      "text/html": [
       "<style>.joystick_focused{ cursor:grabbing !important;}    .joystick_background{user-select: none;        background: #fff3f3;        border: 1px solid #ffa29e;        border-radius: 50%;        height: 12em;        width: 12em;    margin:2.5em;}    .joystick_stick{cursor:grab; user-select: none;        background: #F74138;        border-radius: 50%;        box-shadow: 0.375em 0.375em 0 0 rgba(15, 28, 63, 0.125);        height: 5em;        width: 5em;        transform: translate(50%,50%);    }</style><div><div id=\"joystick_background_1F93453B06AD43\" class=\"joystick_background\">    <div id=\"joystick_stick_1F93453B06AD43\" class=\"joystick_stick\" style=\"position:absolute\" onmousedown=\"start_joystick_1F93453B06AD43(this); joystick_focus_1F93453B06AD43(this);\" ondrag=\"joystick_1F93453B06AD43(e)\" onmouseup=\"reset_joystick_1F93453B06AD43(this); joystick_disfocus_1F93453B06AD43(this);\"></div></div></div><script> X=0; Y=0; function joystick_focus_1F93453B06AD43(e){ e.classList.add(\"joystick_focused\");} function joystick_disfocus_1F93453B06AD43(e){ e.classList.remove(\"joystick_focused\");}    var port_1F93453B06AD43=8887;    var sock_1F93453B06AD43=new WebSocket(\"ws://\"+window.location.hostname+\":\"+port_1F93453B06AD43);    var sw_1F93453B06AD43=false;    var preX_1F93453B06AD43, preY_1F93453B06AD43, X_1F93453B06AD43, Y_1F93453B06AD43, nX_1F93453B06AD43, nY_1F93453B06AD43;    var back_1F93453B06AD43=document.getElementById(\"joystick_background_1F93453B06AD43\");    var stick_1F93453B06AD43=document.getElementById(\"joystick_stick_1F93453B06AD43\");    var back_width_1F93453B06AD43=back_1F93453B06AD43.offsetWidth;    var back_height_1F93453B06AD43=back_1F93453B06AD43.offsetHeight;    var stick_width_1F93453B06AD43=stick_1F93453B06AD43.offsetWidth;    var stick_height_1F93453B06AD43=stick_1F93453B06AD43.offsetHeight;  intlog_1F93453B06AD43=Date.now();  setInterval(()=>{try{if (parseFloat(sX_1F93453B06AD43)==0 && parseFloat(sY_1F93453B06AD43)==0) {if (Date.now()-intlog_1F93453B06AD43<500) sock_1F93453B06AD43.send(\"j,\" + sX_1F93453B06AD43 + \",\" + sY_1F93453B06AD43);}else{ sock_1F93453B06AD43.send(\"j,\" + sX_1F93453B06AD43 + \",\" + sY_1F93453B06AD43); intlog_1F93453B06AD43=Date.now();}}catch{console.log(\"Waiting to connect...\");}},50); function move_1F93453B06AD43(evt){        X=evt.clientX;        Y=evt.clientY;        if(sw_1F93453B06AD43){            nX_1F93453B06AD43+=X-preX_1F93453B06AD43;            nY_1F93453B06AD43+=Y-preY_1F93453B06AD43;            preX_1F93453B06AD43=X;            preY_1F93453B06AD43=Y;            if (nX_1F93453B06AD43>back_width_1F93453B06AD43-stick_width_1F93453B06AD43/2) nX_1F93453B06AD43=back_width_1F93453B06AD43-stick_width_1F93453B06AD43/2;            else if (nX_1F93453B06AD43<-stick_width_1F93453B06AD43/2) nX_1F93453B06AD43=-stick_width_1F93453B06AD43/2;            if (nY_1F93453B06AD43>back_height_1F93453B06AD43-stick_height_1F93453B06AD43/2) nY_1F93453B06AD43=back_height_1F93453B06AD43-stick_height_1F93453B06AD43/2;            else if (nY_1F93453B06AD43<-stick_height_1F93453B06AD43/2) nY_1F93453B06AD43=-stick_height_1F93453B06AD43/2;            sX_1F93453B06AD43=(nX_1F93453B06AD43+stick_width_1F93453B06AD43/2-back_width_1F93453B06AD43/2)/(back_width_1F93453B06AD43/2);            sY_1F93453B06AD43=-(nY_1F93453B06AD43+stick_height_1F93453B06AD43/2-back_height_1F93453B06AD43/2)/(back_height_1F93453B06AD43/2);                        /*sock_1F93453B06AD43.send(\"j,\"+sX_1F93453B06AD43+\",\"+sY_1F93453B06AD43);*/            stick_1F93453B06AD43.style.transform=\"translate(\"+nX_1F93453B06AD43+\"px,\"+nY_1F93453B06AD43+\"px)\";        }    };    function up_1F93453B06AD43(){joystick_disfocus_1F93453B06AD43(stick_1F93453B06AD43);        if(sw_1F93453B06AD43){            sw_1F93453B06AD43=false;            reset_joystick_1F93453B06AD43(stick_1F93453B06AD43);        }    };    function start_joystick_1F93453B06AD43(e){window.onmousemove=move_1F93453B06AD43; window.onmouseup=up_1F93453B06AD43;        preX_1F93453B06AD43=X;        preY_1F93453B06AD43=Y;        sw_1F93453B06AD43=true;    }    function joystick_1F93453B06AD43(e){        nX_1F93453B06AD43+=X-preX_1F93453B06AD43;        nY_1F93453B06AD43+=Y-preY_1F93453B06AD43;        preX_1F93453B06AD43=X;        preY_1F93453B06AD43=Y;        if (nX_1F93453B06AD43>back_width_1F93453B06AD43-stick_width_1F93453B06AD43/2) nX_1F93453B06AD43=back_width_1F93453B06AD43-stick_width_1F93453B06AD43/2;        else if (nX_1F93453B06AD43<-stick_width_1F93453B06AD43/2) nX_1F93453B06AD43=-stick_width_1F93453B06AD43/2;        if (nY_1F93453B06AD43>back_height_1F93453B06AD43-stick_height_1F93453B06AD43/2) nY_1F93453B06AD43=back_height_1F93453B06AD43-stick_height_1F93453B06AD43/2;        else if (nY_1F93453B06AD43<-stick_height_1F93453B06AD43/2) nY_1F93453B06AD43=-stick_height_1F93453B06AD43/2;                e.style.transform=\"translate(\"+nX_1F93453B06AD43+\"px,\"+nY_1F93453B06AD43+\"px)\";    }    function reset_joystick_1F93453B06AD43(e){        sw_1F93453B06AD43=false;        nX_1F93453B06AD43 = back_width_1F93453B06AD43/2 - stick_width_1F93453B06AD43/2;        nY_1F93453B06AD43 = back_height_1F93453B06AD43/2 - stick_height_1F93453B06AD43/2;        e.style.transform=\"translate(\"+nX_1F93453B06AD43+\"px,\"+nY_1F93453B06AD43+\"px)\"; sX_1F93453B06AD43=\"0\"; sY_1F93453B06AD43=\"0\"; sock_1F93453B06AD43.send(\"j,0,0\");    }    reset_joystick_1F93453B06AD43(stick_1F93453B06AD43); console.log(\"Loaded.\");</script>"
      ],
      "text/plain": [
       "<IPython.core.display.HTML object>"
      ]
     },
     "execution_count": 2,
     "metadata": {},
     "output_type": "execute_result"
    }
   ],
   "source": [
    "import time\n",
    "from pop import Pilot\n",
    "\n",
    "Car = Pilot.AutoCar()\n",
    "\n",
    "# Car.setSpeed(50)\n",
    "Car.forward()\n",
    "time.sleep(1)\n",
    "Car.backward()\n",
    "time.sleep(1)\n",
    "\n",
    "# Car.stop()\n",
    "\n",
    "Car.joystick()"
   ]
  },
  {
   "cell_type": "code",
   "execution_count": 13,
   "metadata": {},
   "outputs": [],
   "source": [
    "import time\n",
    "from pop import Pilot\n",
    "\n",
    "Car = Pilot.AutoCar()\n",
    "\n",
    "Car.camPan(0)    # 카메라 좌우 (0은 좌)\n",
    "time.sleep(1)\n",
    "Car.camPan(180)    # (180은 우)\n",
    "time.sleep(1)\n",
    "Car.camTilt(180)    # 카메라 상하 (180은 상)\n",
    "time.sleep(1)\n",
    "Car.camTilt(0)    # (0은 하)\n",
    "time.sleep(1)"
   ]
  },
  {
   "cell_type": "code",
   "execution_count": 16,
   "metadata": {},
   "outputs": [
    {
     "name": "stdout",
     "output_type": "stream",
     "text": [
      "{'x': -322, 'y': 140, 'z': 61}\n",
      "53\n"
     ]
    }
   ],
   "source": [
    "value = Car.getGyro()    # 자이로 센서 값 가져오기 (2번이라고 쓰여있는거)\n",
    "print(value)\n",
    "\n",
    "time.sleep(1)\n",
    "value = Car.getGyro('z')    # 자이로 센서 z의 값 \n",
    "print(value)"
   ]
  },
  {
   "cell_type": "code",
   "execution_count": null,
   "metadata": {},
   "outputs": [],
   "source": [
    "# Pilot 메서드\n",
    "# Car = Pilot.AutoCar() // Car 객체 생성\n",
    "# Car.setSpeed(50) // 속도 설정\n",
    "# Car.forward(n)   // 전진 \n",
    "# Car.backward(n)  // 후진\n",
    "# Car.camPan(n)    // 카메라 좌우\n",
    "# Car.camTilt(n)   // 카메라 상하\n",
    "# Car.joystick()   // 조이스틱\n",
    "# Car.getGyro()    // 자이로\n",
    "# Car.getAccel()   // 가속도 값\n",
    "\n",
    "# ========================\n",
    "# LiDAR 기본 \n",
    "# connect()     // LiDAR 연결\n",
    "# startMotor()  // LiDAR 스캐닝 모터 시작\n",
    "# stopMotor()   // LiDAR 스캐닝 모터 정지\n",
    "# getVectors()  // 1회전 스캔 벡터값(튜플 Degree, Distance, Quality)을 리턴\n",
    "# getXY()       // 1회전 스캔 스캔한 좌표값 리턴 \n",
    "# getMap(size, limit_distance)  // 1회전 스캔값을 2차원 맵으로 반환\n",
    "# // size: 맵 사이즈(기본 300, 300), limit_distance: 맵 표현 최대 거리(기본 12000)"
   ]
  },
  {
   "cell_type": "code",
   "execution_count": 22,
   "metadata": {},
   "outputs": [
    {
     "name": "stdout",
     "output_type": "stream",
     "text": [
      "{'x': 1144, 'y': -36, 'z': 13864}\n"
     ]
    }
   ],
   "source": [
    "value = Car.getAccel()   \n",
    "print(value)\n",
    "time.sleep(1)"
   ]
  },
  {
   "cell_type": "code",
   "execution_count": 2,
   "metadata": {},
   "outputs": [
    {
     "name": "stdout",
     "output_type": "stream",
     "text": [
      "[  6.5423584 964.         47.       ]\n",
      "[ 19.43481445 708.          47.        ]\n",
      "[ 22.52746582 706.          47.        ]\n",
      "[ 123.87084961 1874.           47.        ]\n",
      "[ 180.10437012 1680.           47.        ]\n",
      "[ 192.70019531 1530.           47.        ]\n",
      "[ 194.24926758 1520.           47.        ]\n",
      "[ 198.93493652 1508.           47.        ]\n",
      "[228.48266602 578.          47.        ]\n",
      "[230.04272461 576.          47.        ]\n",
      "[231.59179688 576.          47.        ]\n",
      "[233.15185547 576.          47.        ]\n",
      "[ 235.88745117 3340.           47.        ]\n",
      "[ 236.40380859 3324.           47.        ]\n",
      "[ 236.92016602 3320.           47.        ]\n",
      "[ 237.45300293 3312.           47.        ]\n",
      "[ 237.96386719 3300.           47.        ]\n",
      "[ 238.4967041 3292.          47.       ]\n",
      "[ 239.01306152 3284.           47.        ]\n",
      "[ 239.52941895 3276.           47.        ]\n",
      "[ 240.06225586 3272.           47.        ]\n",
      "[ 240.57312012 3272.           47.        ]\n",
      "[ 241.96838379 4920.           47.        ]\n",
      "[ 243.54492188 4936.           47.        ]\n",
      "[ 246.73095703 4824.           47.        ]\n",
      "[ 247.24731445 4824.           47.        ]\n",
      "[ 247.76367188 4824.           47.        ]\n",
      "[ 248.29650879 4816.           47.        ]\n",
      "[ 248.80737305 4816.           47.        ]\n",
      "[ 249.85656738 4816.           47.        ]\n",
      "[252.6361084 678.         47.       ]\n",
      "[253.21838379 664.          47.        ]\n",
      "[253.72924805 656.          47.        ]\n",
      "[254.24560547 652.          47.        ]\n",
      "[254.77844238 648.          47.        ]\n",
      "[255.35522461 640.          47.        ]\n",
      "[255.9375 628.      47.    ]\n",
      "[256.44836426 618.          47.        ]\n",
      "[257.03063965 612.          47.        ]\n",
      "[258.07434082 610.          47.        ]\n",
      "[271.63696289 606.          47.        ]\n",
      "[272.15332031 602.          47.        ]\n",
      "[ 281.09069824 5312.           47.        ]\n",
      "[ 281.62353516 5352.           47.        ]\n",
      "[ 282.65625 5432.        47.     ]\n",
      "[ 283.93615723 2812.           47.        ]\n",
      "[ 284.45251465 2808.           47.        ]\n",
      "[ 286.01257324 2812.           47.        ]\n",
      "[ 309.97924805 3744.           47.        ]\n",
      "[ 311.02844238 3688.           47.        ]\n",
      "[ 315.32409668 2840.           47.        ]\n",
      "[ 317.41699219 2844.           47.        ]\n",
      "[ 319.51538086 2896.           47.        ]\n",
      "[ 320.55908203 2928.           47.        ]\n",
      "[ 326.84326172 3024.           47.        ]\n",
      "[ 329.80957031 4512.           47.        ]\n",
      "[ 330.85876465 4488.           47.        ]\n",
      "[ 331.90246582 4480.           47.        ]\n",
      "[ 332.95166016 4560.           47.        ]\n",
      "[ 339.16992188 5360.           47.        ]\n",
      "[ 340.21362305 5272.           47.        ]\n",
      "[ 341.26281738 5192.           47.        ]\n",
      "[ 342.31201172 5144.           47.        ]\n",
      "[ 344.40490723 5584.           47.        ]\n",
      "[ 345.4486084 5576.          47.       ]\n",
      "[ 346.49780273 5592.           47.        ]\n",
      "[ 348.59069824 5632.           47.        ]\n"
     ]
    }
   ],
   "source": [
    "from pop import LiDAR\n",
    "lidar = LiDAR.Rplidar()\n",
    "\n",
    "lidar.connect()\n",
    "lidar.startMotor()\n",
    "\n",
    "vectors = lidar.getVectors()\n",
    "for v in vectors:\n",
    "    print(v)"
   ]
  },
  {
   "cell_type": "code",
   "execution_count": null,
   "metadata": {},
   "outputs": [],
   "source": []
  }
 ],
 "metadata": {
  "kernelspec": {
   "display_name": "Python 3",
   "language": "python",
   "name": "python3"
  },
  "language_info": {
   "codemirror_mode": {
    "name": "ipython",
    "version": 3
   },
   "file_extension": ".py",
   "mimetype": "text/x-python",
   "name": "python",
   "nbconvert_exporter": "python",
   "pygments_lexer": "ipython3",
   "version": "3.6.9"
  }
 },
 "nbformat": 4,
 "nbformat_minor": 4
}
