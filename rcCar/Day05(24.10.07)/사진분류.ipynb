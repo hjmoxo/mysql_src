{
 "cells": [
  {
   "cell_type": "code",
   "execution_count": null,
   "metadata": {},
   "outputs": [],
   "source": [
    "from pop import AI, Camera\n",
    "import numpy as np\n",
    "import cv2\n",
    "\n",
    "IMG_AMOUNT = 33\n",
    "\n",
    "X_data = []\n",
    "Y_data = []\n",
    "\n",
    "for i in range(IMG_AMOUNT):\n",
    "    img = cv2.imread('C:\\Users\\user\\Desktop')\n",
    "    img = cv2.cvtColor(img, cv2.COLOR_BGR2GRAY)\n",
    "    img = cv2.resize(img, (50, 50), imterpolation=cv2.INTER_AREA)\n",
    "    X_data.append(img.reshape(50, 50, 1).)"
   ]
  }
 ],
 "metadata": {
  "kernelspec": {
   "display_name": "Python 3",
   "language": "python",
   "name": "python3"
  },
  "language_info": {
   "codemirror_mode": {
    "name": "ipython",
    "version": 3
   },
   "file_extension": ".py",
   "mimetype": "text/x-python",
   "name": "python",
   "nbconvert_exporter": "python",
   "pygments_lexer": "ipython3",
   "version": "3.6.9"
  }
 },
 "nbformat": 4,
 "nbformat_minor": 4
}
