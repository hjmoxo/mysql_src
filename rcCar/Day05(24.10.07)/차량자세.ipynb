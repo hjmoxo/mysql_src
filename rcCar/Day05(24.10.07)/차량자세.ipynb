{
 "cells": [
  {
   "cell_type": "code",
   "execution_count": 23,
   "metadata": {},
   "outputs": [],
   "source": [
    "from pop import Pilot\n",
    "import numpy as np\n",
    "import time"
   ]
  },
  {
   "cell_type": "code",
   "execution_count": 24,
   "metadata": {},
   "outputs": [],
   "source": [
    "Car = Pilot.AutoCar()\n",
    "Car.correctError(-0.1206646)"
   ]
  },
  {
   "cell_type": "code",
   "execution_count": 48,
   "metadata": {},
   "outputs": [
    {
     "name": "stdout",
     "output_type": "stream",
     "text": [
      "{'gyro': 11, 'steer': 1.0}\n",
      "{'gyro': 17, 'steer': 0.8}\n",
      "{'gyro': 9, 'steer': 0.6}\n",
      "{'gyro': 42, 'steer': 0.4}\n",
      "{'gyro': 44, 'steer': 0.2}\n",
      "{'gyro': 100, 'steer': -0.2}\n",
      "{'gyro': 126, 'steer': -0.4}\n",
      "{'gyro': 107, 'steer': -0.6}\n",
      "{'gyro': 102, 'steer': -0.8}\n",
      "{'gyro': 124, 'steer': -1.0}\n"
     ]
    }
   ],
   "source": [
    "dataset = {'gyro':[], 'steer':[]}\n",
    "\n",
    "for n in np.arange(-1, 1.1, 0.2):\n",
    "    n = round(n, 1)\n",
    "    \n",
    "    if n == 0.0:\n",
    "        continue\n",
    "        \n",
    "    Car.steering = n\n",
    "    Car.forward(1)\n",
    "    time.sleep(0.5)\n",
    "    \n",
    "    m = Car.getGyro('z')\n",
    "    time.sleep(0.5)\n",
    "    Car.backward(1)\n",
    "    time.sleep(1)\n",
    "    \n",
    "    Car.stop()\n",
    "    \n",
    "    n = -n   # 조향 제어값을 반전해서 저장\n",
    "    \n",
    "    dataset['gyro'].append(m)\n",
    "    dataset['steer'].append(n)\n",
    "    \n",
    "    print({'gyro': m, 'steer': n})"
   ]
  },
  {
   "cell_type": "code",
   "execution_count": 44,
   "metadata": {},
   "outputs": [
    {
     "name": "stdout",
     "output_type": "stream",
     "text": [
      "1000 step loss: 0.6641114950180054\n",
      "2000 step loss: 0.23211638629436493\n",
      "3000 step loss: 0.17562612891197205\n",
      "4000 step loss: 0.1739373356103897\n",
      "5000 step loss: 0.17393270134925842\n",
      "Training is done.\n",
      "Time spent: 20.9 s\n",
      "Training speed: 239.6 step/s\n"
     ]
    }
   ],
   "source": [
    "from pop import AI\n",
    "\n",
    "LR = AI.Linear_Regression()\n",
    "LR.X_data = dataset['gyro']\n",
    "LR.Y_data = dataset['steer']\n",
    "\n",
    "LR.train(times=5000, print_every=1000)"
   ]
  },
  {
   "cell_type": "code",
   "execution_count": 49,
   "metadata": {},
   "outputs": [
    {
     "name": "stdin",
     "output_type": "stream",
     "text": [
      " q\n"
     ]
    }
   ],
   "source": [
    "Car.forward(50)\n",
    "\n",
    "while True:\n",
    "    if 'q' == input():\n",
    "        break\n",
    "    err = Car.getGyro('z')\n",
    "    value = LR.run([err])\n",
    "    \n",
    "    Car.steering = value / 3\n",
    "    time.sleep(0.1)\n",
    "\n",
    "Car.stop()"
   ]
  },
  {
   "cell_type": "code",
   "execution_count": 42,
   "metadata": {},
   "outputs": [],
   "source": []
  }
 ],
 "metadata": {
  "kernelspec": {
   "display_name": "Python 3",
   "language": "python",
   "name": "python3"
  },
  "language_info": {
   "codemirror_mode": {
    "name": "ipython",
    "version": 3
   },
   "file_extension": ".py",
   "mimetype": "text/x-python",
   "name": "python",
   "nbconvert_exporter": "python",
   "pygments_lexer": "ipython3",
   "version": "3.6.9"
  }
 },
 "nbformat": 4,
 "nbformat_minor": 4
}
