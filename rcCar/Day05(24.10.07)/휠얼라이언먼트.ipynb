{
 "cells": [
  {
   "cell_type": "code",
   "execution_count": 9,
   "metadata": {},
   "outputs": [],
   "source": [
    "from pop import Pilot\n",
    "import numpy as np\n",
    "import time\n",
    "\n",
    "Car = Pilot.AutoCar()"
   ]
  },
  {
   "cell_type": "code",
   "execution_count": 26,
   "metadata": {},
   "outputs": [
    {
     "name": "stdout",
     "output_type": "stream",
     "text": [
      "{'gyro': 37, 'steer': -1.0}\n",
      "{'gyro': 74, 'steer': -0.8}\n",
      "{'gyro': 14, 'steer': -0.6}\n",
      "{'gyro': 26, 'steer': -0.4}\n",
      "{'gyro': 49, 'steer': -0.2}\n",
      "{'gyro': 52, 'steer': -0.0}\n",
      "{'gyro': 12, 'steer': 0.2}\n",
      "{'gyro': 46, 'steer': 0.4}\n",
      "{'gyro': 23, 'steer': 0.6}\n",
      "{'gyro': 36, 'steer': 0.8}\n",
      "{'gyro': 13, 'steer': 1.0}\n"
     ]
    }
   ],
   "source": [
    "dataset = {'gyro':[], 'steer':[]}\n",
    "\n",
    "for n in np.arange(-1, 1.1, 0.2):\n",
    "    n = round(n, 1)    # 소수 한자리 까지만 받아옴 \n",
    "    \n",
    "    Car.steering = n    # 조향 \n",
    "    Car.forward(1)\n",
    "    time.sleep(0.5)\n",
    "    \n",
    "    m = Car.getGyro('z')\n",
    "    time.sleep(0.5)\n",
    "    \n",
    "    Car.backward(1)\n",
    "    time.sleep(1)\n",
    "    Car.stop()\n",
    "    \n",
    "    dataset['gyro'].append(m)\n",
    "    dataset['steer'].append(n)\n",
    "    \n",
    "    print({'gyro': m, 'steer': n})"
   ]
  },
  {
   "cell_type": "code",
   "execution_count": 27,
   "metadata": {},
   "outputs": [
    {
     "name": "stdout",
     "output_type": "stream",
     "text": [
      "1000 step loss: 0.2729206085205078\n",
      "2000 step loss: 0.17735743522644043\n",
      "3000 step loss: 0.1682405024766922\n",
      "4000 step loss: 0.1680753082036972\n",
      "5000 step loss: 0.1680750995874405\n",
      "Training is done.\n",
      "Time spent: 20.7 s\n",
      "Training speed: 241.2 step/s\n"
     ]
    }
   ],
   "source": [
    "from pop import AI\n",
    "\n",
    "LR = AI.Linear_Regression()\n",
    "LR.X_data = dataset['gyro']\n",
    "LR.Y_data = dataset['steer']\n",
    "\n",
    "LR.train(times=5000, print_every=1000)"
   ]
  },
  {
   "cell_type": "code",
   "execution_count": 36,
   "metadata": {},
   "outputs": [
    {
     "name": "stdout",
     "output_type": "stream",
     "text": [
      "[[0.21874091]]\n"
     ]
    }
   ],
   "source": [
    "value = LR.run([0])\n",
    "print(value)"
   ]
  },
  {
   "cell_type": "code",
   "execution_count": 38,
   "metadata": {},
   "outputs": [],
   "source": [
    "Car.steering = value[0]\n",
    "Car.forward(50)"
   ]
  },
  {
   "cell_type": "code",
   "execution_count": 39,
   "metadata": {},
   "outputs": [],
   "source": [
    "Car.stop()"
   ]
  },
  {
   "cell_type": "code",
   "execution_count": null,
   "metadata": {},
   "outputs": [],
   "source": []
  }
 ],
 "metadata": {
  "kernelspec": {
   "display_name": "Python 3",
   "language": "python",
   "name": "python3"
  },
  "language_info": {
   "codemirror_mode": {
    "name": "ipython",
    "version": 3
   },
   "file_extension": ".py",
   "mimetype": "text/x-python",
   "name": "python",
   "nbconvert_exporter": "python",
   "pygments_lexer": "ipython3",
   "version": "3.6.9"
  }
 },
 "nbformat": 4,
 "nbformat_minor": 4
}
