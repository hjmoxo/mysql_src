{
 "cells": [
  {
   "cell_type": "code",
   "execution_count": 4,
   "metadata": {},
   "outputs": [],
   "source": [
    "import pyaudio\n",
    "import wave\n",
    "\n",
    "w = wave.open(\"/usr/share/sounds/alsa/Side_Left.wav\", \"rb\")\n",
    "data = w.readframes(w.getnframes())\n",
    "\n",
    "p = pyaudio.PyAudio()\n",
    "stream = p.open(format=p.get_format_from_width(2), \n",
    "               channels=1,\n",
    "               rate=48000,\n",
    "               output=True)\n",
    "\n",
    "stream.write(data)\n",
    "\n",
    "stream.stop_stream()\n",
    "stream.close()\n",
    "\n",
    "stream = p.open(format=p.get_format_from_width(w.getsampwidth()),\n",
    "               channels=w.getnchannels(),\n",
    "               rate=w.getframerate(),\n",
    "               output=True)\n",
    "w.rewind()\n",
    "\n",
    "data = w.readframes(1024)\n",
    "while len(data)>0:\n",
    "    stream.write(data)\n",
    "    data=w.readframes(1024)\n",
    "\n",
    "w.close()\n",
    "stream.close()\n",
    "p.terminate()"
   ]
  },
  {
   "cell_type": "code",
   "execution_count": 5,
   "metadata": {},
   "outputs": [
    {
     "name": "stdout",
     "output_type": "stream",
     "text": [
      "main work...\n",
      "main work...\n",
      "main work...\n",
      "main work...\n",
      "main work...\n",
      "main work...\n",
      "main work...\n",
      "main work...\n",
      "main work...\n",
      "main work...\n",
      "main work...\n",
      "main work...\n",
      "main work...\n",
      "main work...\n"
     ]
    }
   ],
   "source": [
    "import pyaudio\n",
    "import wave\n",
    "import time\n",
    "\n",
    "def callback(in_data, frame_count, time_info, status):\n",
    "    data=w.readframes(frame_count)\n",
    "    return(data, pyaudio.paContinue)\n",
    "\n",
    "w = wave.open(\"/usr/share/sounds/alsa/Side_Left.wav\", \"rb\")\n",
    "p = pyaudio.PyAudio()\n",
    "\n",
    "stream = p.open(format=p.get_format_from_width(w.getsampwidth()),\n",
    "               channels=w.getnchannels(), \n",
    "               rate=w.getframerate(),\n",
    "               output=True, \n",
    "               stream_callback=callback)\n",
    "\n",
    "stream.start_stream()\n",
    "\n",
    "while stream.is_active():\n",
    "    print(\"main work...\")\n",
    "    time.sleep(0.1)\n",
    "    \n",
    "stream.stop_stream()\n",
    "stream.close()\n",
    "p.terminate()"
   ]
  },
  {
   "cell_type": "code",
   "execution_count": 13,
   "metadata": {},
   "outputs": [],
   "source": [
    "import pyaudio\n",
    "import numpy as np\n",
    "\n",
    "volume = 0.5\n",
    "fs = 48000\n",
    "duration=1.0\n",
    "f=440.0\n",
    "\n",
    "data=(np.sin(2*np.pi*np.arange(fs*duration)*f/fs).astype(np.float32))\n",
    "\n",
    "p=pyaudio.PyAudio()\n",
    "stream=p.open(format=pyaudio.paFloat32, channels=1, rate=fs, output=True)\n",
    "stream.write(volume*data)\n",
    "\n",
    "stream.stop_stream()\n",
    "stream.close()\n",
    "p.terminate()"
   ]
  },
  {
   "cell_type": "code",
   "execution_count": 39,
   "metadata": {},
   "outputs": [
    {
     "ename": "KeyboardInterrupt",
     "evalue": "",
     "output_type": "error",
     "traceback": [
      "\u001b[0;31m---------------------------------------------------------------------------\u001b[0m",
      "\u001b[0;31mKeyboardInterrupt\u001b[0m                         Traceback (most recent call last)",
      "\u001b[0;32m<ipython-input-39-45ebb9781d9d>\u001b[0m in \u001b[0;36m<module>\u001b[0;34m\u001b[0m\n\u001b[1;32m     29\u001b[0m \u001b[0;32mwith\u001b[0m \u001b[0mTone\u001b[0m\u001b[0;34m(\u001b[0m\u001b[0;34m)\u001b[0m \u001b[0;32mas\u001b[0m \u001b[0mtone\u001b[0m\u001b[0;34m:\u001b[0m\u001b[0;34m\u001b[0m\u001b[0;34m\u001b[0m\u001b[0m\n\u001b[1;32m     30\u001b[0m     \u001b[0;32mfor\u001b[0m \u001b[0mn\u001b[0m \u001b[0;32min\u001b[0m \u001b[0;34m[\u001b[0m\u001b[0;36m1\u001b[0m\u001b[0;34m,\u001b[0m \u001b[0;36m3\u001b[0m\u001b[0;34m,\u001b[0m \u001b[0;36m5\u001b[0m\u001b[0;34m,\u001b[0m \u001b[0;36m7\u001b[0m\u001b[0;34m,\u001b[0m \u001b[0;36m8\u001b[0m\u001b[0;34m,\u001b[0m \u001b[0;36m10\u001b[0m\u001b[0;34m,\u001b[0m \u001b[0;36m12\u001b[0m\u001b[0;34m]\u001b[0m\u001b[0;34m:\u001b[0m\u001b[0;34m\u001b[0m\u001b[0;34m\u001b[0m\u001b[0m\n\u001b[0;32m---> 31\u001b[0;31m         \u001b[0mtone\u001b[0m\u001b[0;34m.\u001b[0m\u001b[0mplay\u001b[0m\u001b[0;34m(\u001b[0m\u001b[0;36m3\u001b[0m\u001b[0;34m,\u001b[0m \u001b[0mn\u001b[0m\u001b[0;34m,\u001b[0m \u001b[0;36m4\u001b[0m\u001b[0;34m)\u001b[0m\u001b[0;34m\u001b[0m\u001b[0;34m\u001b[0m\u001b[0m\n\u001b[0m",
      "\u001b[0;32m<ipython-input-39-45ebb9781d9d>\u001b[0m in \u001b[0;36mplay\u001b[0;34m(self, octave, note, duration)\u001b[0m\n\u001b[1;32m     25\u001b[0m         \u001b[0mf\u001b[0m \u001b[0;34m=\u001b[0m \u001b[0;36m2\u001b[0m\u001b[0;34m**\u001b[0m\u001b[0;34m(\u001b[0m\u001b[0moctave\u001b[0m\u001b[0;34m)\u001b[0m \u001b[0;34m*\u001b[0m \u001b[0;36m55\u001b[0m \u001b[0;34m*\u001b[0m \u001b[0;36m2\u001b[0m\u001b[0;34m**\u001b[0m\u001b[0;34m(\u001b[0m\u001b[0;34m(\u001b[0m\u001b[0;34m(\u001b[0m\u001b[0mnote\u001b[0m\u001b[0;34m)\u001b[0m \u001b[0;34m-\u001b[0m \u001b[0;36m10\u001b[0m\u001b[0;34m)\u001b[0m\u001b[0;34m/\u001b[0m\u001b[0;36m12\u001b[0m\u001b[0;34m)\u001b[0m\u001b[0;34m\u001b[0m\u001b[0;34m\u001b[0m\u001b[0m\n\u001b[1;32m     26\u001b[0m         \u001b[0msample\u001b[0m \u001b[0;34m=\u001b[0m \u001b[0;34m(\u001b[0m\u001b[0mnp\u001b[0m\u001b[0;34m.\u001b[0m\u001b[0msin\u001b[0m\u001b[0;34m(\u001b[0m\u001b[0;36m2\u001b[0m\u001b[0;34m*\u001b[0m \u001b[0mnp\u001b[0m\u001b[0;34m.\u001b[0m\u001b[0mpi\u001b[0m\u001b[0;34m*\u001b[0m \u001b[0mnp\u001b[0m\u001b[0;34m.\u001b[0m\u001b[0marange\u001b[0m\u001b[0;34m(\u001b[0m\u001b[0mself\u001b[0m\u001b[0;34m.\u001b[0m\u001b[0mrate\u001b[0m \u001b[0;34m*\u001b[0m \u001b[0mduration\u001b[0m\u001b[0;34m)\u001b[0m \u001b[0;34m*\u001b[0m \u001b[0mf\u001b[0m \u001b[0;34m/\u001b[0m \u001b[0mself\u001b[0m\u001b[0;34m.\u001b[0m\u001b[0mrate\u001b[0m\u001b[0;34m)\u001b[0m\u001b[0;34m)\u001b[0m\u001b[0;34m.\u001b[0m\u001b[0mastype\u001b[0m\u001b[0;34m(\u001b[0m\u001b[0mnp\u001b[0m\u001b[0;34m.\u001b[0m\u001b[0mfloat32\u001b[0m\u001b[0;34m)\u001b[0m\u001b[0;34m\u001b[0m\u001b[0;34m\u001b[0m\u001b[0m\n\u001b[0;32m---> 27\u001b[0;31m         \u001b[0mself\u001b[0m\u001b[0;34m.\u001b[0m\u001b[0mstream\u001b[0m\u001b[0;34m.\u001b[0m\u001b[0mwrite\u001b[0m\u001b[0;34m(\u001b[0m\u001b[0mself\u001b[0m\u001b[0;34m.\u001b[0m\u001b[0mvolume\u001b[0m \u001b[0;34m*\u001b[0m \u001b[0msample\u001b[0m\u001b[0;34m)\u001b[0m\u001b[0;34m\u001b[0m\u001b[0;34m\u001b[0m\u001b[0m\n\u001b[0m\u001b[1;32m     28\u001b[0m \u001b[0;34m\u001b[0m\u001b[0m\n\u001b[1;32m     29\u001b[0m \u001b[0;32mwith\u001b[0m \u001b[0mTone\u001b[0m\u001b[0;34m(\u001b[0m\u001b[0;34m)\u001b[0m \u001b[0;32mas\u001b[0m \u001b[0mtone\u001b[0m\u001b[0;34m:\u001b[0m\u001b[0;34m\u001b[0m\u001b[0;34m\u001b[0m\u001b[0m\n",
      "\u001b[0;32m/usr/local/lib/python3.6/dist-packages/pyaudio.py\u001b[0m in \u001b[0;36mwrite\u001b[0;34m(self, frames, num_frames, exception_on_underflow)\u001b[0m\n\u001b[1;32m    584\u001b[0m \u001b[0;34m\u001b[0m\u001b[0m\n\u001b[1;32m    585\u001b[0m         pa.write_stream(self._stream, frames, num_frames,\n\u001b[0;32m--> 586\u001b[0;31m                         exception_on_underflow)\n\u001b[0m\u001b[1;32m    587\u001b[0m \u001b[0;34m\u001b[0m\u001b[0m\n\u001b[1;32m    588\u001b[0m \u001b[0;34m\u001b[0m\u001b[0m\n",
      "\u001b[0;31mKeyboardInterrupt\u001b[0m: "
     ]
    }
   ],
   "source": [
    "import pyaudio\n",
    "import numpy as np\n",
    "\n",
    "# 여기서 self는 자기자신을 가르킴 그래서 def 함수를 여러개 사용해서 \n",
    "# 하나는 1 하나는 3의 값을 입력하면 각 객체마다 다른 값을 가질 수 있는거임! \n",
    "\n",
    "# 객체가 생성할때 무조건 생성자가 호출되어야 함! 그래서 우리가 생성자라고 파이썬의 생성자=__init__\n",
    "# 생성자가 self.valume = volume\n",
    "# __init__은 생성자이지만 또다른 기능은 얘가 있어야 패키지로서의 기능도 할수 잇음! 오 \n",
    "\n",
    "# java는 생성자가 클래스 이름과 동일함(cpp도!)\n",
    "# 파이썬은 생성자의 이름이 __init__임 \n",
    "# 생성자는 입력 받을 수 있음, 입력값 없어도 됨 디폴트 값, return 값이 없음(출력이 없음) \n",
    "# 생성자는 객체를 초기화 하는 역할 \n",
    "\n",
    "class Tone:\n",
    "    def __init__(self, volume=.5, rate=48000, channels=1): \n",
    "        self.volume = volume   # 이런 부분은 함수 정의~ 함수 정의, 호출, 선언 잘 기억해두자! \n",
    "        self.rate = rate\n",
    "        self.channels = channels\n",
    "        self.p=pyaudio.PyAudio()\n",
    "        self.stream = self.p.open(format=pyaudio.paFloat32,\n",
    "                                  channels=self.channels, rate=self.rate, output=True)\n",
    "\n",
    "    def __enter__(self):\n",
    "        return self\n",
    "\n",
    "    def __exit__(self, type, value, traceback):\n",
    "        self.stop()  # 함수 호출\n",
    "\n",
    "    def stop(self):  # 파이썬은 함수의 정의를 뒤에 해도 됨! 오.. 편리 \n",
    "        self.stream.stop_stream()\n",
    "        self.stream.close()\n",
    "        self.p.terminate()\n",
    "\n",
    "    def play(self, octave, note, duration):\n",
    "        f = 2**(octave) * 55 * 2**(((note) - 10)/12) \n",
    "        sample = (np.sin(2* np.pi* np.arange(self.rate * duration) * f / self.rate)).astype(np.float32)\n",
    "        self.stream.write(self.volume * sample)\n",
    "\n",
    "with Tone() as tone:\n",
    "    for n in [1, 3, 5, 7, 8, 10, 12]:\n",
    "        tone.play(3, n, 4)"
   ]
  },
  {
   "cell_type": "code",
   "execution_count": null,
   "metadata": {},
   "outputs": [],
   "source": []
  }
 ],
 "metadata": {
  "kernelspec": {
   "display_name": "Python 3",
   "language": "python",
   "name": "python3"
  },
  "language_info": {
   "codemirror_mode": {
    "name": "ipython",
    "version": 3
   },
   "file_extension": ".py",
   "mimetype": "text/x-python",
   "name": "python",
   "nbconvert_exporter": "python",
   "pygments_lexer": "ipython3",
   "version": "3.6.9"
  }
 },
 "nbformat": 4,
 "nbformat_minor": 4
}
